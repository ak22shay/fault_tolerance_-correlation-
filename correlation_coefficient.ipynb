{
 "cells": [
  {
   "cell_type": "markdown",
   "id": "d66523ef-db36-4d25-ae77-c56352ccb90e",
   "metadata": {},
   "source": [
    "# _____________________________________________________________________________________\n",
    "# Correlation for Heart rate and body temperature data\n",
    "# _____________________________________________________________________________________"
   ]
  },
  {
   "cell_type": "code",
   "execution_count": 77,
   "id": "99264fb3-2af9-4b39-8864-84667dc2d240",
   "metadata": {},
   "outputs": [],
   "source": [
    "import pandas as pd\n",
    "import seaborn as sns\n",
    "from scipy.stats import pearsonr"
   ]
  },
  {
   "cell_type": "code",
   "execution_count": 78,
   "id": "1af04629-7b72-4ae0-af8e-6edb24ccaf70",
   "metadata": {},
   "outputs": [
    {
     "data": {
      "text/html": [
       "<div>\n",
       "<style scoped>\n",
       "    .dataframe tbody tr th:only-of-type {\n",
       "        vertical-align: middle;\n",
       "    }\n",
       "\n",
       "    .dataframe tbody tr th {\n",
       "        vertical-align: top;\n",
       "    }\n",
       "\n",
       "    .dataframe thead th {\n",
       "        text-align: right;\n",
       "    }\n",
       "</style>\n",
       "<table border=\"1\" class=\"dataframe\">\n",
       "  <thead>\n",
       "    <tr style=\"text-align: right;\">\n",
       "      <th></th>\n",
       "      <th>heart_rate</th>\n",
       "      <th>body_temp</th>\n",
       "    </tr>\n",
       "  </thead>\n",
       "  <tbody>\n",
       "    <tr>\n",
       "      <th>0</th>\n",
       "      <td>71</td>\n",
       "      <td>96.7</td>\n",
       "    </tr>\n",
       "    <tr>\n",
       "      <th>1</th>\n",
       "      <td>74</td>\n",
       "      <td>96.9</td>\n",
       "    </tr>\n",
       "    <tr>\n",
       "      <th>2</th>\n",
       "      <td>80</td>\n",
       "      <td>97.0</td>\n",
       "    </tr>\n",
       "    <tr>\n",
       "      <th>3</th>\n",
       "      <td>73</td>\n",
       "      <td>97.1</td>\n",
       "    </tr>\n",
       "    <tr>\n",
       "      <th>4</th>\n",
       "      <td>75</td>\n",
       "      <td>97.1</td>\n",
       "    </tr>\n",
       "  </tbody>\n",
       "</table>\n",
       "</div>"
      ],
      "text/plain": [
       "   heart_rate  body_temp\n",
       "0          71       96.7\n",
       "1          74       96.9\n",
       "2          80       97.0\n",
       "3          73       97.1\n",
       "4          75       97.1"
      ]
     },
     "execution_count": 78,
     "metadata": {},
     "output_type": "execute_result"
    }
   ],
   "source": [
    "heart_temp = pd.read_csv('heart_temp.csv')\n",
    "heart_temp.head()"
   ]
  },
  {
   "cell_type": "code",
   "execution_count": 79,
   "id": "af3e1775-5e48-40eb-b10f-21496adbf2cf",
   "metadata": {},
   "outputs": [
    {
     "data": {
      "text/plain": [
       "Text(0, 0.5, 'body temperature')"
      ]
     },
     "execution_count": 79,
     "metadata": {},
     "output_type": "execute_result"
    },
    {
     "data": {
      "image/png": "[encoded data removed]",
      "text/plain": [
       "<Figure size 432x288 with 1 Axes>"
      ]
     },
     "metadata": {
      "needs_background": "light"
     },
     "output_type": "display_data"
    }
   ],
   "source": [
    "plot1 = sns.scatterplot(x=heart_temp[\"heart_rate\"], y=heart_temp[\"body_temp\"], data=heart_temp);\n",
    "\n",
    "plot1.set_title(\"heart rate vs. body temperature\")\n",
    "plot1.set_xlabel(\"heart rate\")\n",
    "plot1.set_ylabel(\"body temperature\")"
   ]
  },
  {
   "cell_type": "code",
   "execution_count": 80,
   "id": "03f269ae-4b82-4c92-9e1e-ec6f39c13164",
   "metadata": {},
   "outputs": [
    {
     "name": "stdout",
     "output_type": "stream",
     "text": [
      "Pearsons correlation for Heart rate and body temperature data is: 0.243\n"
     ]
    }
   ],
   "source": [
    "corr1, _ = pearsonr(heart_temp[\"heart_rate\"], heart_temp[\"body_temp\"])\n",
    "print('Pearsons correlation for Heart rate and body temperature data is: %.3f' % corr1)"
   ]
  },
  {
   "cell_type": "markdown",
   "id": "5969ed81-7c2e-4c56-9deb-a8cca2110248",
   "metadata": {},
   "source": [
    "# _____________________________________________________________________________________\n",
    "# Correlation for Heart rate and motion data\n",
    "# _____________________________________________________________________________________"
   ]
  },
  {
   "cell_type": "code",
   "execution_count": 85,
   "id": "f7912d70-1b5e-46a8-a684-fd8625419172",
   "metadata": {},
   "outputs": [
    {
     "data": {
      "text/html": [
       "<div>\n",
       "<style scoped>\n",
       "    .dataframe tbody tr th:only-of-type {\n",
       "        vertical-align: middle;\n",
       "    }\n",
       "\n",
       "    .dataframe tbody tr th {\n",
       "        vertical-align: top;\n",
       "    }\n",
       "\n",
       "    .dataframe thead th {\n",
       "        text-align: right;\n",
       "    }\n",
       "</style>\n",
       "<table border=\"1\" class=\"dataframe\">\n",
       "  <thead>\n",
       "    <tr style=\"text-align: right;\">\n",
       "      <th></th>\n",
       "      <th>heart_rate</th>\n",
       "      <th>speed</th>\n",
       "    </tr>\n",
       "  </thead>\n",
       "  <tbody>\n",
       "    <tr>\n",
       "      <th>0</th>\n",
       "      <td>60</td>\n",
       "      <td>0.6048</td>\n",
       "    </tr>\n",
       "    <tr>\n",
       "      <th>1</th>\n",
       "      <td>77</td>\n",
       "      <td>4.6368</td>\n",
       "    </tr>\n",
       "    <tr>\n",
       "      <th>2</th>\n",
       "      <td>88</td>\n",
       "      <td>4.9032</td>\n",
       "    </tr>\n",
       "    <tr>\n",
       "      <th>3</th>\n",
       "      <td>96</td>\n",
       "      <td>6.3828</td>\n",
       "    </tr>\n",
       "    <tr>\n",
       "      <th>4</th>\n",
       "      <td>142</td>\n",
       "      <td>8.9676</td>\n",
       "    </tr>\n",
       "  </tbody>\n",
       "</table>\n",
       "</div>"
      ],
      "text/plain": [
       "   heart_rate   speed\n",
       "0          60  0.6048\n",
       "1          77  4.6368\n",
       "2          88  4.9032\n",
       "3          96  6.3828\n",
       "4         142  8.9676"
      ]
     },
     "execution_count": 85,
     "metadata": {},
     "output_type": "execute_result"
    }
   ],
   "source": [
    "heart_speed = pd.read_csv('heart_speed.csv')\n",
    "heart_speed.head()"
   ]
  },
  {
   "cell_type": "code",
   "execution_count": null,
   "id": "2cc2dc01-ba0a-464a-b69a-bee04ed27325",
   "metadata": {},
   "outputs": [],
   "source": []
  },
  {
   "cell_type": "code",
   "execution_count": 87,
   "id": "9b9c89bc-d0ed-4030-8a73-6af74e3462f5",
   "metadata": {},
   "outputs": [
    {
     "data": {
      "text/plain": [
       "Text(0, 0.5, 'speed')"
      ]
     },
     "execution_count": 87,
     "metadata": {},
     "output_type": "execute_result"
    },
    {
     "data": {
      "image/png": "[encoded data removed]",
      "text/plain": [
       "<Figure size 432x288 with 1 Axes>"
      ]
     },
     "metadata": {
      "needs_background": "light"
     },
     "output_type": "display_data"
    }
   ],
   "source": [
    "plot2= sns.scatterplot(x=heart_speed[\"heart_rate\"], y=heart_speed[\"speed\"], data=heart_speed)\n",
    "plot2.set_title(\"heart rate vs. speed\")\n",
    "plot2.set_xlabel(\"heart rate\")\n",
    "plot2.set_ylabel(\"speed\")"
   ]
  },
  {
   "cell_type": "code",
   "execution_count": 83,
   "id": "7fbc549a-2fdb-43f9-8d1c-b8cdd6317c8d",
   "metadata": {},
   "outputs": [
    {
     "name": "stdout",
     "output_type": "stream",
     "text": [
      "Pearsons correlation for Heart rate and speed data is: 0.761\n"
     ]
    }
   ],
   "source": [
    "corr2, _ = pearsonr(heart_speed[\"heart_rate\"], heart_speed[\"speed\"])\n",
    "print('Pearsons correlation for Heart rate and speed data is: %.3f' % corr2)"
   ]
  },
  {
   "cell_type": "code",
   "execution_count": null,
   "id": "0b97139d-019b-4b5f-a3a2-d9fc60df23c6",
   "metadata": {},
   "outputs": [],
   "source": []
  },
  {
   "cell_type": "code",
   "execution_count": null,
   "id": "98225a17-01ba-4230-9c4a-b9f9a3c7720c",
   "metadata": {},
   "outputs": [],
   "source": []
  }
 ],
 "metadata": {
  "kernelspec": {
   "display_name": "Python 3 (ipykernel)",
   "language": "python",
   "name": "python3"
  },
  "language_info": {
   "codemirror_mode": {
    "name": "ipython",
    "version": 3
   },
   "file_extension": ".py",
   "mimetype": "text/x-python",
   "name": "python",
   "nbconvert_exporter": "python",
   "pygments_lexer": "ipython3",
   "version": "3.9.7"
  }
 },
 "nbformat": 4,
 "nbformat_minor": 5
}
